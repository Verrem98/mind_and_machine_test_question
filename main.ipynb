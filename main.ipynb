{
 "cells": [
  {
   "cell_type": "code",
   "execution_count": 5,
   "id": "initial_id",
   "metadata": {
    "collapsed": true,
    "ExecuteTime": {
     "end_time": "2024-01-07T17:24:27.875820800Z",
     "start_time": "2024-01-07T17:24:27.868820700Z"
    }
   },
   "outputs": [],
   "source": [
    "import torch\n",
    "import torch.nn as nn\n"
   ]
  },
  {
   "cell_type": "code",
   "execution_count": 6,
   "outputs": [],
   "source": [
    "class binary_activation(nn.Module):\n",
    "    def __init__(self):\n",
    "        super(binary_activation, self).__init__()\n",
    "\n",
    "    def forward(self, x):\n",
    "        x[x >= 0] = 1\n",
    "        x[x < 0] = 0\n",
    "        return x"
   ],
   "metadata": {
    "collapsed": false,
    "ExecuteTime": {
     "end_time": "2024-01-07T17:24:29.327662800Z",
     "start_time": "2024-01-07T17:24:29.316745Z"
    }
   },
   "id": "80507882bd5c26fd"
  },
  {
   "cell_type": "code",
   "execution_count": 8,
   "outputs": [],
   "source": [
    "model = nn.Sequential(nn.Linear(3,2),\n",
    "                      binary_activation(),\n",
    "                      nn.Linear(2,1),\n",
    "                      binary_activation()\n",
    "                      )"
   ],
   "metadata": {
    "collapsed": false,
    "ExecuteTime": {
     "end_time": "2024-01-07T17:24:38.669210100Z",
     "start_time": "2024-01-07T17:24:38.661208200Z"
    }
   },
   "id": "13be6f0be0b3b322"
  },
  {
   "cell_type": "code",
   "execution_count": 9,
   "outputs": [],
   "source": [
    "with torch.no_grad():\n",
    "    model[0].weight[0, 0] = -0.3\n",
    "    model[0].weight[1, 0] = 0.5\n",
    "    model[0].weight[0, 1] = 0.5\n",
    "    model[0].weight[1, 1] = 0.4\n",
    "    model[0].weight[0, 2] = 0.6\n",
    "    model[0].weight[1, 2] = 0.2\n",
    "    model[0].bias.fill_(-0.5)\n",
    "\n",
    "    model[2].weight[0, 0] = -0.6\n",
    "    model[2].weight[0, 1] = 0.5\n",
    "    model[2].bias[0] = -0.2\n"
   ],
   "metadata": {
    "collapsed": false,
    "ExecuteTime": {
     "end_time": "2024-01-07T17:24:39.850129100Z",
     "start_time": "2024-01-07T17:24:39.845065Z"
    }
   },
   "id": "6b36574ec00cb540"
  },
  {
   "cell_type": "code",
   "execution_count": 10,
   "outputs": [
    {
     "name": "stdout",
     "output_type": "stream",
     "text": [
      "last node output with input [1, 0, 1]:  1.0\n",
      "last node output with input [0, 1, 1]:  0.0\n"
     ]
    }
   ],
   "source": [
    "print(f\"last node output with input [1, 0, 1]:  {model(torch.Tensor([1, 0, 1])).item()}\")\n",
    "print(f\"last node output with input [0, 1, 1]:  {model(torch.Tensor([0, 1, 1])).item()}\")"
   ],
   "metadata": {
    "collapsed": false,
    "ExecuteTime": {
     "end_time": "2024-01-07T17:24:41.453633300Z",
     "start_time": "2024-01-07T17:24:41.448632500Z"
    }
   },
   "id": "5bf1b0f80c6d054a"
  }
 ],
 "metadata": {
  "kernelspec": {
   "display_name": "Python 3",
   "language": "python",
   "name": "python3"
  },
  "language_info": {
   "codemirror_mode": {
    "name": "ipython",
    "version": 2
   },
   "file_extension": ".py",
   "mimetype": "text/x-python",
   "name": "python",
   "nbconvert_exporter": "python",
   "pygments_lexer": "ipython2",
   "version": "2.7.6"
  }
 },
 "nbformat": 4,
 "nbformat_minor": 5
}
